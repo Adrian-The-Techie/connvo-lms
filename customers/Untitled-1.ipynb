{
 "cells": [
  {
   "cell_type": "code",
   "execution_count": 11,
   "metadata": {},
   "outputs": [
    {
     "data": {
      "text/plain": [
       "{'status': 1,\n",
       " 'response': {'ConversationID': 'AG_20240924_2050664b1d0c7c08124e',\n",
       "  'OriginatorConversationID': '4ad2-40f1-8898-cef301c69e1c52843606',\n",
       "  'ResponseCode': '0',\n",
       "  'ResponseDescription': 'Accept the service request successfully.'}}"
      ]
     },
     "execution_count": 11,
     "metadata": {},
     "output_type": "execute_result"
    }
   ],
   "source": [
    "import requests\n",
    "import json\n",
    "import random\n",
    "import uuid\n",
    "from django.http.response import HttpResponse, JsonResponse\n",
    "from requests.models import HTTPBasicAuth\n",
    "\n",
    "def _generateB2CKeys():\n",
    "        try:\n",
    "            response = requests.get(\n",
    "                \"https://api.safaricom.co.ke/oauth/v1/generate?grant_type=client_credentials\",\n",
    "                auth=HTTPBasicAuth(\n",
    "                    'AM92daVbfPt6xgpcn8w6noh4llKKpJKVu6IAruKNUnbKKVgf',\n",
    "                    'F4no5NAAY6n8GW4a926cITg8Pl3zGOAPAGJhqVWUs6Qy6R9NYivpcOZcvj3tPr28',\n",
    "                ),\n",
    "            )\n",
    "            formattedResponse = dict(json.loads(response.text))\n",
    "            return formattedResponse[\"access_token\"]\n",
    "        except Exception as e:\n",
    "            return JsonResponse(e)\n",
    "        \n",
    "\n",
    "def get_reference_no():\n",
    "    return uuid.uuid4().hex\n",
    "\n",
    "\n",
    "\n",
    "def generate_random_number():\n",
    "    # Generate multiples of 50 within the range 250 to 800\n",
    "    return random.choice([i for i in range(250, 801, 50)])\n",
    "\n",
    "def get_phone():\n",
    "     numberList=['254708753557','254711324691', '' ,'254113011396']\n",
    "\n",
    "     number=random.choice(numberList)\n",
    "\n",
    "     return number\n",
    "        \n",
    "def disburse():\n",
    "        url = \"https://api.safaricom.co.ke/mpesa/b2c/v1/paymentrequest\"\n",
    "        data = {\n",
    "                \"InitiatorName\": \"gongagongaB2C\",\n",
    "                \"SecurityCredential\": \"KGwZrRsEUyPy4voojebL+HET5o8oFxo0bhVhs5ssbDDU3QJCv17gq6E8UNMVv9eUcpEaKKNYk1g8TQXNJCKDmqEQDcXc5HG0Y1LZ3rdu2GrsSM9RfoJZwQ7Vyt0ppTjLlh5GKHtlUjf4biKNEOkmFUTjKQEKZHKful0knCeHwBNGch25YGozNd6QJzUdD89h195DGrZ8CdWA3GAEnAjEFStscu4lDKz0TrdAJnGuSVgetFBukEMWyqvySpHsK7BL6w+hlwXU6kEBxonqlZus1jULxDt3oVz37r3lOp97frCprwR/hxbuQZaqFcZho6wMpLqtyaqg3FpuZtFKO/6A4w==\",\n",
    "                \"CommandID\": \"PromotionPayment\",\n",
    "                \"Amount\": \"600\",\n",
    "                \"PartyA\": \"3039953\",\n",
    "                \"PartyB\": \"254113011396\",\n",
    "                \"Remarks\": get_reference_no(),\n",
    "                \"QueueTimeOutURL\": \"https://webhook.site/433a2fa4-82a9-4a18-90cf-36b7f224a611\",\n",
    "                \"ResultURL\": \"https://webhook.site/433a2fa4-82a9-4a18-90cf-36b7f224a611\",\n",
    "                \"Occasion\": get_reference_no()\n",
    "            }\n",
    "\n",
    "        headers = {\n",
    "            \"Authorization\": \"Bearer \" + _generateB2CKeys(),\n",
    "            \"Content-type\": \"application/json\",\n",
    "        }\n",
    "        try:\n",
    "            r = requests.post(url, json=data, headers=headers)\n",
    "            response = dict(json.loads(r.text))\n",
    "            return {\"status\": 1, \"response\": response}\n",
    "        except Exception as e:\n",
    "            return {\"status\": 0, \"error\": e}\n",
    "        \n",
    "\n",
    "disburse()"
   ]
  }
 ],
 "metadata": {
  "kernelspec": {
   "display_name": "env",
   "language": "python",
   "name": "python3"
  },
  "language_info": {
   "codemirror_mode": {
    "name": "ipython",
    "version": 3
   },
   "file_extension": ".py",
   "mimetype": "text/x-python",
   "name": "python",
   "nbconvert_exporter": "python",
   "pygments_lexer": "ipython3",
   "version": "3.12.5"
  }
 },
 "nbformat": 4,
 "nbformat_minor": 2
}
